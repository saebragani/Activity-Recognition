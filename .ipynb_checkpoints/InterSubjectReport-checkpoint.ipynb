{
 "cells": [
  {
   "cell_type": "code",
   "execution_count": 1,
   "id": "light-curve",
   "metadata": {},
   "outputs": [
    {
     "name": "stdout",
     "output_type": "stream",
     "text": [
      "3.8.8\n"
     ]
    }
   ],
   "source": [
    "import pickle\n",
    "import os\n",
    "from sklearn.metrics import accuracy_score\n",
    "from sklearn.metrics import classification_report\n",
    "import pandas as pd\n",
    "import numpy as np\n",
    "import matplotlib.pyplot as plt\n",
    "import warnings\n",
    "import seaborn as sns\n",
    "warnings.simplefilter('ignore')\n",
    "from platform import python_version\n",
    "print(python_version())"
   ]
  },
  {
   "cell_type": "code",
   "execution_count": 2,
   "id": "plain-friendly",
   "metadata": {},
   "outputs": [],
   "source": [
    "resultsDict = {}\n",
    "for file in os.listdir('./outputs/classification/inter-subject'):\n",
    "    infile = open('./outputs/classification/inter-subject/' + file, 'rb')\n",
    "    resultsDict['{}'.format(file)] = pickle.load(infile)\n",
    "    infile.close()"
   ]
  },
  {
   "cell_type": "code",
   "execution_count": 3,
   "id": "after-georgia",
   "metadata": {
    "collapsed": true,
    "jupyter": {
     "outputs_hidden": true
    },
    "tags": []
   },
   "outputs": [
    {
     "name": "stdout",
     "output_type": "stream",
     "text": [
      "Test accuracy for Fold1_FrequencyAll_KNN_128.pickle is: 0.85\n",
      "Test accuracy for Fold1_FrequencyAll_KNN_320.pickle is: 0.90\n",
      "Test accuracy for Fold1_FrequencyAll_RandomForest_128.pickle is: 0.87\n",
      "Test accuracy for Fold1_FrequencyAll_RandomForest_320.pickle is: 0.94\n",
      "Test accuracy for Fold1_FrequencyAll_SVC_128.pickle is: 0.90\n",
      "Test accuracy for Fold1_FrequencyAll_SVC_320.pickle is: 0.95\n",
      "Test accuracy for Fold1_TimeFrequency_KNN_128.pickle is: 0.93\n",
      "Test accuracy for Fold1_TimeFrequency_KNN_320.pickle is: 0.98\n",
      "Test accuracy for Fold1_TimeFrequency_RandomForest_128.pickle is: 0.93\n",
      "Test accuracy for Fold1_TimeFrequency_RandomForest_320.pickle is: 0.97\n",
      "Test accuracy for Fold1_TimeFrequency_SVC_128.pickle is: 0.94\n",
      "Test accuracy for Fold1_TimeFrequency_SVC_320.pickle is: 0.98\n",
      "Test accuracy for Fold1_Time_KNN_128.pickle is: 0.85\n",
      "Test accuracy for Fold1_Time_KNN_320.pickle is: 0.94\n",
      "Test accuracy for Fold1_Time_RandomForest_128.pickle is: 0.88\n",
      "Test accuracy for Fold1_Time_RandomForest_320.pickle is: 0.96\n",
      "Test accuracy for Fold1_Time_SVC_128.pickle is: 0.91\n",
      "Test accuracy for Fold1_Time_SVC_320.pickle is: 0.98\n",
      "Test accuracy for Fold2_FrequencyAll_KNN_128.pickle is: 0.82\n",
      "Test accuracy for Fold2_FrequencyAll_KNN_320.pickle is: 0.88\n",
      "Test accuracy for Fold2_FrequencyAll_RandomForest_128.pickle is: 0.85\n",
      "Test accuracy for Fold2_FrequencyAll_RandomForest_320.pickle is: 0.93\n",
      "Test accuracy for Fold2_FrequencyAll_SVC_128.pickle is: 0.86\n",
      "Test accuracy for Fold2_FrequencyAll_SVC_320.pickle is: 0.94\n",
      "Test accuracy for Fold2_TimeFrequency_KNN_128.pickle is: 0.89\n",
      "Test accuracy for Fold2_TimeFrequency_KNN_320.pickle is: 0.96\n",
      "Test accuracy for Fold2_TimeFrequency_RandomForest_128.pickle is: 0.85\n",
      "Test accuracy for Fold2_TimeFrequency_RandomForest_320.pickle is: 0.95\n",
      "Test accuracy for Fold2_TimeFrequency_SVC_128.pickle is: 0.89\n",
      "Test accuracy for Fold2_TimeFrequency_SVC_320.pickle is: 0.97\n",
      "Test accuracy for Fold2_Time_KNN_128.pickle is: 0.83\n",
      "Test accuracy for Fold2_Time_KNN_320.pickle is: 0.87\n",
      "Test accuracy for Fold2_Time_RandomForest_128.pickle is: 0.83\n",
      "Test accuracy for Fold2_Time_RandomForest_320.pickle is: 0.89\n",
      "Test accuracy for Fold2_Time_SVC_128.pickle is: 0.83\n",
      "Test accuracy for Fold2_Time_SVC_320.pickle is: 0.88\n",
      "Test accuracy for Fold3_FrequencyAll_KNN_128.pickle is: 0.84\n",
      "Test accuracy for Fold3_FrequencyAll_KNN_320.pickle is: 0.89\n",
      "Test accuracy for Fold3_FrequencyAll_RandomForest_128.pickle is: 0.85\n",
      "Test accuracy for Fold3_FrequencyAll_RandomForest_320.pickle is: 0.93\n",
      "Test accuracy for Fold3_FrequencyAll_SVC_128.pickle is: 0.87\n",
      "Test accuracy for Fold3_FrequencyAll_SVC_320.pickle is: 0.93\n",
      "Test accuracy for Fold3_TimeFrequency_KNN_128.pickle is: 0.91\n",
      "Test accuracy for Fold3_TimeFrequency_KNN_320.pickle is: 0.97\n",
      "Test accuracy for Fold3_TimeFrequency_RandomForest_128.pickle is: 0.92\n",
      "Test accuracy for Fold3_TimeFrequency_RandomForest_320.pickle is: 0.97\n",
      "Test accuracy for Fold3_TimeFrequency_SVC_128.pickle is: 0.92\n",
      "Test accuracy for Fold3_TimeFrequency_SVC_320.pickle is: 0.98\n",
      "Test accuracy for Fold3_Time_KNN_128.pickle is: 0.87\n",
      "Test accuracy for Fold3_Time_KNN_320.pickle is: 0.89\n",
      "Test accuracy for Fold3_Time_RandomForest_128.pickle is: 0.88\n",
      "Test accuracy for Fold3_Time_RandomForest_320.pickle is: 0.91\n",
      "Test accuracy for Fold3_Time_SVC_128.pickle is: 0.89\n",
      "Test accuracy for Fold3_Time_SVC_320.pickle is: 0.92\n",
      "Test accuracy for Fold4_FrequencyAll_KNN_128.pickle is: 0.83\n",
      "Test accuracy for Fold4_FrequencyAll_KNN_320.pickle is: 0.90\n",
      "Test accuracy for Fold4_FrequencyAll_RandomForest_128.pickle is: 0.85\n",
      "Test accuracy for Fold4_FrequencyAll_RandomForest_320.pickle is: 0.94\n",
      "Test accuracy for Fold4_FrequencyAll_SVC_128.pickle is: 0.87\n",
      "Test accuracy for Fold4_FrequencyAll_SVC_320.pickle is: 0.96\n",
      "Test accuracy for Fold4_TimeFrequency_KNN_128.pickle is: 0.90\n",
      "Test accuracy for Fold4_TimeFrequency_KNN_320.pickle is: 0.97\n",
      "Test accuracy for Fold4_TimeFrequency_RandomForest_128.pickle is: 0.89\n",
      "Test accuracy for Fold4_TimeFrequency_RandomForest_320.pickle is: 0.96\n",
      "Test accuracy for Fold4_TimeFrequency_SVC_128.pickle is: 0.90\n",
      "Test accuracy for Fold4_TimeFrequency_SVC_320.pickle is: 0.97\n",
      "Test accuracy for Fold4_Time_KNN_128.pickle is: 0.78\n",
      "Test accuracy for Fold4_Time_KNN_320.pickle is: 0.83\n",
      "Test accuracy for Fold4_Time_RandomForest_128.pickle is: 0.82\n",
      "Test accuracy for Fold4_Time_RandomForest_320.pickle is: 0.90\n",
      "Test accuracy for Fold4_Time_SVC_128.pickle is: 0.84\n",
      "Test accuracy for Fold4_Time_SVC_320.pickle is: 0.89\n",
      "Test accuracy for Fold5_FrequencyAll_KNN_128.pickle is: 0.80\n",
      "Test accuracy for Fold5_FrequencyAll_KNN_320.pickle is: 0.86\n",
      "Test accuracy for Fold5_FrequencyAll_RandomForest_128.pickle is: 0.82\n",
      "Test accuracy for Fold5_FrequencyAll_RandomForest_320.pickle is: 0.93\n",
      "Test accuracy for Fold5_FrequencyAll_SVC_128.pickle is: 0.86\n",
      "Test accuracy for Fold5_FrequencyAll_SVC_320.pickle is: 0.94\n",
      "Test accuracy for Fold5_TimeFrequency_KNN_128.pickle is: 0.90\n",
      "Test accuracy for Fold5_TimeFrequency_KNN_320.pickle is: 0.95\n",
      "Test accuracy for Fold5_TimeFrequency_RandomForest_128.pickle is: 0.87\n",
      "Test accuracy for Fold5_TimeFrequency_RandomForest_320.pickle is: 0.95\n",
      "Test accuracy for Fold5_TimeFrequency_SVC_128.pickle is: 0.91\n",
      "Test accuracy for Fold5_TimeFrequency_SVC_320.pickle is: 0.95\n",
      "Test accuracy for Fold5_Time_KNN_128.pickle is: 0.81\n",
      "Test accuracy for Fold5_Time_KNN_320.pickle is: 0.86\n",
      "Test accuracy for Fold5_Time_RandomForest_128.pickle is: 0.81\n",
      "Test accuracy for Fold5_Time_RandomForest_320.pickle is: 0.87\n",
      "Test accuracy for Fold5_Time_SVC_128.pickle is: 0.83\n",
      "Test accuracy for Fold5_Time_SVC_320.pickle is: 0.88\n"
     ]
    }
   ],
   "source": [
    "for key in resultsDict.keys():\n",
    "    Y_true_pred = resultsDict[key]['TruePredY']\n",
    "    best_accuracy = accuracy_score(Y_true_pred['True'], Y_true_pred['Predicted'])\n",
    "    print('Test accuracy for {0:} is: {1:.2f}'.format(key, best_accuracy))"
   ]
  },
  {
   "cell_type": "code",
   "execution_count": 6,
   "id": "secondary-carnival",
   "metadata": {},
   "outputs": [],
   "source": [
    "columns = ['test_set', 'window_len', 'feature_set', 'classifier', 'overall_accuracy']\n",
    "accuracy_df = pd.DataFrame(columns=columns)\n",
    "\n",
    "for key in resultsDict.keys():\n",
    "    tmp_str_split = key[:-7].split('_')\n",
    "    test_set = tmp_str_split[0][-1]\n",
    "    feature = tmp_str_split[1]\n",
    "    classifier = tmp_str_split[2]\n",
    "    window_length = tmp_str_split[3]\n",
    "    \n",
    "    Y_true_pred = resultsDict[key]['TruePredY']\n",
    "    overall_accuracy = accuracy_score(Y_true_pred['True'], Y_true_pred['Predicted'])\n",
    "    \n",
    "    accuracy_df = accuracy_df.append({'test_set': test_set, 'window_len': window_length, 'feature_set': feature, 'classifier': classifier, 'overall_accuracy': overall_accuracy},\n",
    "                                     ignore_index=True)"
   ]
  },
  {
   "cell_type": "code",
   "execution_count": 40,
   "id": "wooden-hepatitis",
   "metadata": {},
   "outputs": [
    {
     "data": {
      "image/png": "[encoded data removed]",
      "text/plain": [
       "<Figure size 1440x504 with 1 Axes>"
      ]
     },
     "metadata": {
      "needs_background": "light"
     },
     "output_type": "display_data"
    }
   ],
   "source": [
    "f, ax = plt.subplots(1, figsize=(20, 7))\n",
    "sns.boxplot(x='test_set', y='overall_accuracy', hue='window_len', data=accuracy_df, ax=ax, palette='Set1')\n",
    "ax.set_ylabel('Overall Accuracy', fontsize=20)\n",
    "ax.set_xlabel('Test Set', fontsize=20)\n",
    "ax.set_ylim([0.5, 1])\n",
    "ax.tick_params(axis='both', which='major', labelsize=15)\n",
    "lgnd = ax.legend(title='Window Length', fontsize=15)\n",
    "lgnd.get_title().set_fontsize('15')\n",
    "lgnd.texts[0].set_text('4 Seconds')\n",
    "lgnd.texts[1].set_text('10 Seconds')\n",
    "plt.show()"
   ]
  },
  {
   "cell_type": "markdown",
   "id": "determined-closing",
   "metadata": {},
   "source": [
    "## Tests Subjects\n",
    "\n",
    "> `Test Set 1`: **26, 32, 21, 9, 13, 20, 12, 24**\n",
    "\n",
    "> `Test Set 2`: **41, 37, 42, 35, 43, 11, 23, 39**  --> 1 left handed\n",
    "\n",
    "> `Test Set 3`: **14, 22, 18, 17, 28, 33, 38**\n",
    "\n",
    "> `Test Set 4`: **34, 19, 44, 31, 29, 40, 27**  --> 1 left handed\n",
    "\n",
    "> `Test Set 5`: **16, 30, 8, 10, 15, 25, 36**\n",
    "\n",
    "\n",
    "**Left handed subjects: 19 & 35 subject**"
   ]
  },
  {
   "cell_type": "markdown",
   "id": "meaning-threshold",
   "metadata": {},
   "source": [
    "# 2-Way ANOVA for Classifiers and Feature Sets"
   ]
  },
  {
   "cell_type": "code",
   "execution_count": 12,
   "id": "ranging-husband",
   "metadata": {},
   "outputs": [],
   "source": [
    "import statsmodels.api as sm\n",
    "from statsmodels.formula.api import ols"
   ]
  },
  {
   "cell_type": "markdown",
   "id": "cultural-death",
   "metadata": {},
   "source": [
    "## All Window Lengths"
   ]
  },
  {
   "cell_type": "code",
   "execution_count": 42,
   "id": "preceding-invite",
   "metadata": {},
   "outputs": [
    {
     "data": {
      "text/html": [
       "<div>\n",
       "<style scoped>\n",
       "    .dataframe tbody tr th:only-of-type {\n",
       "        vertical-align: middle;\n",
       "    }\n",
       "\n",
       "    .dataframe tbody tr th {\n",
       "        vertical-align: top;\n",
       "    }\n",
       "\n",
       "    .dataframe thead th {\n",
       "        text-align: right;\n",
       "    }\n",
       "</style>\n",
       "<table border=\"1\" class=\"dataframe\">\n",
       "  <thead>\n",
       "    <tr style=\"text-align: right;\">\n",
       "      <th></th>\n",
       "      <th>sum_sq</th>\n",
       "      <th>df</th>\n",
       "      <th>F</th>\n",
       "      <th>PR(&gt;F)</th>\n",
       "    </tr>\n",
       "  </thead>\n",
       "  <tbody>\n",
       "    <tr>\n",
       "      <th>C(classifier)</th>\n",
       "      <td>0.013198</td>\n",
       "      <td>2.0</td>\n",
       "      <td>3.871386</td>\n",
       "      <td>2.478890e-02</td>\n",
       "    </tr>\n",
       "    <tr>\n",
       "      <th>C(feature_set)</th>\n",
       "      <td>0.067041</td>\n",
       "      <td>2.0</td>\n",
       "      <td>19.665882</td>\n",
       "      <td>1.092048e-07</td>\n",
       "    </tr>\n",
       "    <tr>\n",
       "      <th>C(classifier):C(feature_set)</th>\n",
       "      <td>0.006883</td>\n",
       "      <td>4.0</td>\n",
       "      <td>1.009555</td>\n",
       "      <td>4.075045e-01</td>\n",
       "    </tr>\n",
       "    <tr>\n",
       "      <th>Residual</th>\n",
       "      <td>0.138065</td>\n",
       "      <td>81.0</td>\n",
       "      <td>NaN</td>\n",
       "      <td>NaN</td>\n",
       "    </tr>\n",
       "  </tbody>\n",
       "</table>\n",
       "</div>"
      ],
      "text/plain": [
       "                                sum_sq    df          F        PR(>F)\n",
       "C(classifier)                 0.013198   2.0   3.871386  2.478890e-02\n",
       "C(feature_set)                0.067041   2.0  19.665882  1.092048e-07\n",
       "C(classifier):C(feature_set)  0.006883   4.0   1.009555  4.075045e-01\n",
       "Residual                      0.138065  81.0        NaN           NaN"
      ]
     },
     "execution_count": 42,
     "metadata": {},
     "output_type": "execute_result"
    }
   ],
   "source": [
    "model = ols('overall_accuracy ~ C(classifier) + C(feature_set) + C(classifier):C(feature_set)', data=accuracy_df).fit()\n",
    "anova_table = sm.stats.anova_lm(model, typ=2)\n",
    "anova_table"
   ]
  },
  {
   "cell_type": "markdown",
   "id": "creative-mirror",
   "metadata": {},
   "source": [
    "## 10 Seconds Window Lengths"
   ]
  },
  {
   "cell_type": "code",
   "execution_count": 13,
   "id": "ahead-casting",
   "metadata": {},
   "outputs": [
    {
     "data": {
      "text/html": [
       "<div>\n",
       "<style scoped>\n",
       "    .dataframe tbody tr th:only-of-type {\n",
       "        vertical-align: middle;\n",
       "    }\n",
       "\n",
       "    .dataframe tbody tr th {\n",
       "        vertical-align: top;\n",
       "    }\n",
       "\n",
       "    .dataframe thead th {\n",
       "        text-align: right;\n",
       "    }\n",
       "</style>\n",
       "<table border=\"1\" class=\"dataframe\">\n",
       "  <thead>\n",
       "    <tr style=\"text-align: right;\">\n",
       "      <th></th>\n",
       "      <th>sum_sq</th>\n",
       "      <th>df</th>\n",
       "      <th>F</th>\n",
       "      <th>PR(&gt;F)</th>\n",
       "    </tr>\n",
       "  </thead>\n",
       "  <tbody>\n",
       "    <tr>\n",
       "      <th>C(classifier)</th>\n",
       "      <td>0.007783</td>\n",
       "      <td>2.0</td>\n",
       "      <td>6.035505</td>\n",
       "      <td>5.489673e-03</td>\n",
       "    </tr>\n",
       "    <tr>\n",
       "      <th>C(feature_set)</th>\n",
       "      <td>0.035423</td>\n",
       "      <td>2.0</td>\n",
       "      <td>27.470017</td>\n",
       "      <td>5.699713e-08</td>\n",
       "    </tr>\n",
       "    <tr>\n",
       "      <th>C(classifier):C(feature_set)</th>\n",
       "      <td>0.004962</td>\n",
       "      <td>4.0</td>\n",
       "      <td>1.923973</td>\n",
       "      <td>1.275482e-01</td>\n",
       "    </tr>\n",
       "    <tr>\n",
       "      <th>Residual</th>\n",
       "      <td>0.023211</td>\n",
       "      <td>36.0</td>\n",
       "      <td>NaN</td>\n",
       "      <td>NaN</td>\n",
       "    </tr>\n",
       "  </tbody>\n",
       "</table>\n",
       "</div>"
      ],
      "text/plain": [
       "                                sum_sq    df          F        PR(>F)\n",
       "C(classifier)                 0.007783   2.0   6.035505  5.489673e-03\n",
       "C(feature_set)                0.035423   2.0  27.470017  5.699713e-08\n",
       "C(classifier):C(feature_set)  0.004962   4.0   1.923973  1.275482e-01\n",
       "Residual                      0.023211  36.0        NaN           NaN"
      ]
     },
     "execution_count": 13,
     "metadata": {},
     "output_type": "execute_result"
    }
   ],
   "source": [
    "accuracy_10sec_df = accuracy_df[accuracy_df['window_len']=='320']\n",
    "\n",
    "model = ols('overall_accuracy ~ C(classifier) + C(feature_set) + C(classifier):C(feature_set)', data=accuracy_10sec_df).fit()\n",
    "anova_table = sm.stats.anova_lm(model, typ=2)\n",
    "anova_table"
   ]
  },
  {
   "cell_type": "markdown",
   "id": "lucky-pennsylvania",
   "metadata": {},
   "source": [
    "## 4 Seconds Window Lengths"
   ]
  },
  {
   "cell_type": "code",
   "execution_count": 14,
   "id": "buried-eligibility",
   "metadata": {},
   "outputs": [
    {
     "data": {
      "text/html": [
       "<div>\n",
       "<style scoped>\n",
       "    .dataframe tbody tr th:only-of-type {\n",
       "        vertical-align: middle;\n",
       "    }\n",
       "\n",
       "    .dataframe tbody tr th {\n",
       "        vertical-align: top;\n",
       "    }\n",
       "\n",
       "    .dataframe thead th {\n",
       "        text-align: right;\n",
       "    }\n",
       "</style>\n",
       "<table border=\"1\" class=\"dataframe\">\n",
       "  <thead>\n",
       "    <tr style=\"text-align: right;\">\n",
       "      <th></th>\n",
       "      <th>sum_sq</th>\n",
       "      <th>df</th>\n",
       "      <th>F</th>\n",
       "      <th>PR(&gt;F)</th>\n",
       "    </tr>\n",
       "  </thead>\n",
       "  <tbody>\n",
       "    <tr>\n",
       "      <th>C(classifier)</th>\n",
       "      <td>0.006253</td>\n",
       "      <td>2.0</td>\n",
       "      <td>4.713828</td>\n",
       "      <td>1.519424e-02</td>\n",
       "    </tr>\n",
       "    <tr>\n",
       "      <th>C(feature_set)</th>\n",
       "      <td>0.033149</td>\n",
       "      <td>2.0</td>\n",
       "      <td>24.988528</td>\n",
       "      <td>1.565160e-07</td>\n",
       "    </tr>\n",
       "    <tr>\n",
       "      <th>C(classifier):C(feature_set)</th>\n",
       "      <td>0.002337</td>\n",
       "      <td>4.0</td>\n",
       "      <td>0.880840</td>\n",
       "      <td>4.850895e-01</td>\n",
       "    </tr>\n",
       "    <tr>\n",
       "      <th>Residual</th>\n",
       "      <td>0.023879</td>\n",
       "      <td>36.0</td>\n",
       "      <td>NaN</td>\n",
       "      <td>NaN</td>\n",
       "    </tr>\n",
       "  </tbody>\n",
       "</table>\n",
       "</div>"
      ],
      "text/plain": [
       "                                sum_sq    df          F        PR(>F)\n",
       "C(classifier)                 0.006253   2.0   4.713828  1.519424e-02\n",
       "C(feature_set)                0.033149   2.0  24.988528  1.565160e-07\n",
       "C(classifier):C(feature_set)  0.002337   4.0   0.880840  4.850895e-01\n",
       "Residual                      0.023879  36.0        NaN           NaN"
      ]
     },
     "execution_count": 14,
     "metadata": {},
     "output_type": "execute_result"
    }
   ],
   "source": [
    "accuracy_4sec_df = accuracy_df[accuracy_df['window_len']=='128']\n",
    "\n",
    "model = ols('overall_accuracy ~ C(classifier) + C(feature_set) + C(classifier):C(feature_set)', data=accuracy_4sec_df).fit()\n",
    "anova_table = sm.stats.anova_lm(model, typ=2)\n",
    "anova_table"
   ]
  },
  {
   "cell_type": "code",
   "execution_count": null,
   "id": "medieval-catholic",
   "metadata": {},
   "outputs": [],
   "source": []
  }
 ],
 "metadata": {
  "kernelspec": {
   "display_name": "Python 3",
   "language": "python",
   "name": "python3"
  },
  "language_info": {
   "codemirror_mode": {
    "name": "ipython",
    "version": 3
   },
   "file_extension": ".py",
   "mimetype": "text/x-python",
   "name": "python",
   "nbconvert_exporter": "python",
   "pygments_lexer": "ipython3",
   "version": "3.9.2"
  },
  "toc-autonumbering": false
 },
 "nbformat": 4,
 "nbformat_minor": 5
}
