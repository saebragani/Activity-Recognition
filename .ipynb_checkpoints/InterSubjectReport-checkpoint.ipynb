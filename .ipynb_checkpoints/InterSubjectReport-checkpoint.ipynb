{
 "cells": [
  {
   "cell_type": "code",
   "execution_count": 1,
   "id": "historic-specific",
   "metadata": {},
   "outputs": [
    {
     "name": "stdout",
     "output_type": "stream",
     "text": [
      "3.9.2\n"
     ]
    }
   ],
   "source": [
    "import pickle\n",
    "import os\n",
    "from sklearn.metrics import accuracy_score\n",
    "from sklearn.metrics import classification_report\n",
    "import pandas as pd\n",
    "import numpy as np\n",
    "import matplotlib.pyplot as plt\n",
    "import warnings\n",
    "import seaborn as sns\n",
    "warnings.simplefilter('ignore')\n",
    "from platform import python_version\n",
    "print(python_version())"
   ]
  },
  {
   "cell_type": "markdown",
   "id": "hybrid-weather",
   "metadata": {},
   "source": [
    "# Read Inter-Subject Results"
   ]
  },
  {
   "cell_type": "code",
   "execution_count": 2,
   "id": "loving-naples",
   "metadata": {},
   "outputs": [],
   "source": [
    "resultsDict = {}\n",
    "for file in os.listdir('./outputs/classification/inter-subject'):\n",
    "    infile = open('./outputs/classification/inter-subject/' + file, 'rb')\n",
    "    resultsDict['{}'.format(file)] = pickle.load(infile)\n",
    "    infile.close()"
   ]
  },
  {
   "cell_type": "markdown",
   "id": "voluntary-reasoning",
   "metadata": {},
   "source": [
    "## Mean Metrics Across all Runs"
   ]
  },
  {
   "cell_type": "code",
   "execution_count": 3,
   "id": "backed-martin",
   "metadata": {},
   "outputs": [],
   "source": [
    "all_reports_df = pd.DataFrame(columns=['fold', 'window_length', 'feature', 'model', 'electricPanel', 'hoist', 'ladder', 'lift', 'overhead', 'push', 'sit', 'stand', 'type', 'walk'])\n",
    "for key in resultsDict.keys():\n",
    "    truePredY = resultsDict[key]['TruePredY']\n",
    "    reports = classification_report(truePredY['True'], truePredY['Predicted'], output_dict=True)\n",
    "    reports_df = pd.DataFrame(reports)\n",
    "#     reports_df.loc['support'] = reports_df.loc['support'].astype(int).astype(str)\n",
    "    reports_df = reports_df.drop(columns=['macro avg', 'weighted avg'], index='support')\n",
    "    reports_df['fold'] = key[4]\n",
    "    if '320' in key:\n",
    "        reports_df['window_length'] = 10\n",
    "    elif '128' in key:\n",
    "        reports_df['window_length'] = 4\n",
    "        \n",
    "    if 'FrequencyAll_' in key:\n",
    "        reports_df['feature'] = 'Frequency'\n",
    "    elif 'Time_' in key:\n",
    "        reports_df['feature'] = 'Time'\n",
    "    elif 'TimeFrequency_' in key:\n",
    "        reports_df['feature'] = 'Time Frequency'\n",
    "        \n",
    "    if 'KNN' in key:\n",
    "        reports_df['model'] = 'k-NN'\n",
    "    elif 'SVC' in key:\n",
    "        reports_df['model'] = 'SVM'\n",
    "    elif 'RandomForest' in key:\n",
    "        reports_df['model'] = 'RF'\n",
    "        \n",
    "    all_reports_df = pd.concat([all_reports_df, reports_df], axis=0)\n",
    "all_reports_df = all_reports_df.reset_index().rename(columns={'index':'measure', 'accuracy': 'overall_accuracy'})\n",
    "mean_df = all_reports_df.groupby(['window_length', 'feature', 'model', 'measure']).mean().reset_index()\n",
    "mean_df['overall_accuracy_stdev'] = all_reports_df.groupby(['window_length', 'feature', 'model', 'measure']).std()['overall_accuracy'].values\n",
    "mean_df = mean_df.round(decimals=2)\n",
    "mean_df.to_csv('outputs/tables/inter-subject_mean_metrics.csv')\n",
    "# mean_df"
   ]
  },
  {
   "cell_type": "markdown",
   "id": "looking-robert",
   "metadata": {},
   "source": [
    "# Factors and Overall Accuracy"
   ]
  },
  {
   "cell_type": "code",
   "execution_count": 4,
   "id": "instant-extreme",
   "metadata": {},
   "outputs": [],
   "source": [
    "columns = ['test_set', 'window_len', 'feature_set', 'classifier', 'overall_accuracy']\n",
    "accuracy_df = pd.DataFrame(columns=columns)\n",
    "\n",
    "for key in resultsDict.keys():\n",
    "    tmp_str_split = key[:-7].split('_')\n",
    "    test_set = tmp_str_split[0][-1]\n",
    "    feature = tmp_str_split[1]\n",
    "    classifier = tmp_str_split[2]\n",
    "    window_length = tmp_str_split[3]\n",
    "    \n",
    "    Y_true_pred = resultsDict[key]['TruePredY']\n",
    "    overall_accuracy = accuracy_score(Y_true_pred['True'], Y_true_pred['Predicted'])\n",
    "    \n",
    "    accuracy_df = accuracy_df.append({'test_set': test_set, 'window_len': window_length, 'feature_set': feature, 'classifier': classifier, 'overall_accuracy': overall_accuracy},\n",
    "                                     ignore_index=True)\n",
    "# accuracy_df"
   ]
  },
  {
   "cell_type": "markdown",
   "id": "irish-blade",
   "metadata": {},
   "source": [
    "# Two-Way ANOVA (Classifiers & Features) and Tukey's HSD"
   ]
  },
  {
   "cell_type": "code",
   "execution_count": 5,
   "id": "returning-prairie",
   "metadata": {},
   "outputs": [],
   "source": [
    "import statsmodels.api as sm\n",
    "from statsmodels.formula.api import ols\n",
    "from statsmodels.stats.multicomp import pairwise_tukeyhsd"
   ]
  },
  {
   "cell_type": "markdown",
   "id": "extraordinary-table",
   "metadata": {},
   "source": [
    "## ANOVA (10 sec)"
   ]
  },
  {
   "cell_type": "code",
   "execution_count": 6,
   "id": "stable-courage",
   "metadata": {},
   "outputs": [
    {
     "data": {
      "text/html": [
       "<div>\n",
       "<style scoped>\n",
       "    .dataframe tbody tr th:only-of-type {\n",
       "        vertical-align: middle;\n",
       "    }\n",
       "\n",
       "    .dataframe tbody tr th {\n",
       "        vertical-align: top;\n",
       "    }\n",
       "\n",
       "    .dataframe thead th {\n",
       "        text-align: right;\n",
       "    }\n",
       "</style>\n",
       "<table border=\"1\" class=\"dataframe\">\n",
       "  <thead>\n",
       "    <tr style=\"text-align: right;\">\n",
       "      <th></th>\n",
       "      <th>sum_sq</th>\n",
       "      <th>df</th>\n",
       "      <th>F</th>\n",
       "      <th>PR(&gt;F)</th>\n",
       "    </tr>\n",
       "  </thead>\n",
       "  <tbody>\n",
       "    <tr>\n",
       "      <th>C(classifier)</th>\n",
       "      <td>0.007783</td>\n",
       "      <td>2.0</td>\n",
       "      <td>6.035505</td>\n",
       "      <td>5.489673e-03</td>\n",
       "    </tr>\n",
       "    <tr>\n",
       "      <th>C(feature_set)</th>\n",
       "      <td>0.035423</td>\n",
       "      <td>2.0</td>\n",
       "      <td>27.470017</td>\n",
       "      <td>5.699713e-08</td>\n",
       "    </tr>\n",
       "    <tr>\n",
       "      <th>C(classifier):C(feature_set)</th>\n",
       "      <td>0.004962</td>\n",
       "      <td>4.0</td>\n",
       "      <td>1.923973</td>\n",
       "      <td>1.275482e-01</td>\n",
       "    </tr>\n",
       "    <tr>\n",
       "      <th>Residual</th>\n",
       "      <td>0.023211</td>\n",
       "      <td>36.0</td>\n",
       "      <td>NaN</td>\n",
       "      <td>NaN</td>\n",
       "    </tr>\n",
       "  </tbody>\n",
       "</table>\n",
       "</div>"
      ],
      "text/plain": [
       "                                sum_sq    df          F        PR(>F)\n",
       "C(classifier)                 0.007783   2.0   6.035505  5.489673e-03\n",
       "C(feature_set)                0.035423   2.0  27.470017  5.699713e-08\n",
       "C(classifier):C(feature_set)  0.004962   4.0   1.923973  1.275482e-01\n",
       "Residual                      0.023211  36.0        NaN           NaN"
      ]
     },
     "execution_count": 6,
     "metadata": {},
     "output_type": "execute_result"
    }
   ],
   "source": [
    "accuracy_10sec_df = accuracy_df[accuracy_df['window_len']=='320']\n",
    "\n",
    "model = ols('overall_accuracy ~ C(classifier) + C(feature_set) + C(classifier):C(feature_set)', data=accuracy_10sec_df).fit()\n",
    "anova_table = sm.stats.anova_lm(model, typ=2)\n",
    "anova_table.to_csv('outputs/tables/ANOVA/10secANOVA.csv')\n",
    "anova_table"
   ]
  },
  {
   "cell_type": "markdown",
   "id": "aquatic-person",
   "metadata": {},
   "source": [
    "## Tukey Features (10 sec)"
   ]
  },
  {
   "cell_type": "code",
   "execution_count": 7,
   "id": "thorough-simpson",
   "metadata": {},
   "outputs": [
    {
     "data": {
      "text/html": [
       "<div>\n",
       "<style scoped>\n",
       "    .dataframe tbody tr th:only-of-type {\n",
       "        vertical-align: middle;\n",
       "    }\n",
       "\n",
       "    .dataframe tbody tr th {\n",
       "        vertical-align: top;\n",
       "    }\n",
       "\n",
       "    .dataframe thead th {\n",
       "        text-align: right;\n",
       "    }\n",
       "</style>\n",
       "<table border=\"1\" class=\"dataframe\">\n",
       "  <thead>\n",
       "    <tr style=\"text-align: right;\">\n",
       "      <th></th>\n",
       "      <th>group1</th>\n",
       "      <th>group2</th>\n",
       "      <th>meandiff</th>\n",
       "      <th>p-adj</th>\n",
       "      <th>lower</th>\n",
       "      <th>upper</th>\n",
       "      <th>reject</th>\n",
       "    </tr>\n",
       "  </thead>\n",
       "  <tbody>\n",
       "    <tr>\n",
       "      <th>0</th>\n",
       "      <td>FrequencyAll</td>\n",
       "      <td>Time</td>\n",
       "      <td>-0.0251</td>\n",
       "      <td>0.0599</td>\n",
       "      <td>-0.0511</td>\n",
       "      <td>0.0009</td>\n",
       "      <td>False</td>\n",
       "    </tr>\n",
       "    <tr>\n",
       "      <th>1</th>\n",
       "      <td>FrequencyAll</td>\n",
       "      <td>TimeFrequency</td>\n",
       "      <td>0.0429</td>\n",
       "      <td>0.0010</td>\n",
       "      <td>0.0169</td>\n",
       "      <td>0.0688</td>\n",
       "      <td>True</td>\n",
       "    </tr>\n",
       "    <tr>\n",
       "      <th>2</th>\n",
       "      <td>Time</td>\n",
       "      <td>TimeFrequency</td>\n",
       "      <td>0.0680</td>\n",
       "      <td>0.0010</td>\n",
       "      <td>0.0420</td>\n",
       "      <td>0.0939</td>\n",
       "      <td>True</td>\n",
       "    </tr>\n",
       "  </tbody>\n",
       "</table>\n",
       "</div>"
      ],
      "text/plain": [
       "         group1         group2  meandiff   p-adj   lower   upper  reject\n",
       "0  FrequencyAll           Time   -0.0251  0.0599 -0.0511  0.0009   False\n",
       "1  FrequencyAll  TimeFrequency    0.0429  0.0010  0.0169  0.0688    True\n",
       "2          Time  TimeFrequency    0.0680  0.0010  0.0420  0.0939    True"
      ]
     },
     "execution_count": 7,
     "metadata": {},
     "output_type": "execute_result"
    }
   ],
   "source": [
    "m_comp = pairwise_tukeyhsd(endog=accuracy_10sec_df['overall_accuracy'], groups=accuracy_10sec_df['feature_set'], alpha=0.05)\n",
    "tukey_df = pd.DataFrame(data=m_comp._results_table.data[1:], columns = m_comp._results_table.data[0])\n",
    "tukey_df.to_csv('outputs/tables/ANOVA/10secTukeyFeatures.csv')\n",
    "tukey_df"
   ]
  },
  {
   "cell_type": "markdown",
   "id": "coordinated-profit",
   "metadata": {},
   "source": [
    "## Tukey Classifiers (10 sec)"
   ]
  },
  {
   "cell_type": "code",
   "execution_count": 8,
   "id": "arranged-connection",
   "metadata": {},
   "outputs": [
    {
     "data": {
      "text/html": [
       "<div>\n",
       "<style scoped>\n",
       "    .dataframe tbody tr th:only-of-type {\n",
       "        vertical-align: middle;\n",
       "    }\n",
       "\n",
       "    .dataframe tbody tr th {\n",
       "        vertical-align: top;\n",
       "    }\n",
       "\n",
       "    .dataframe thead th {\n",
       "        text-align: right;\n",
       "    }\n",
       "</style>\n",
       "<table border=\"1\" class=\"dataframe\">\n",
       "  <thead>\n",
       "    <tr style=\"text-align: right;\">\n",
       "      <th></th>\n",
       "      <th>group1</th>\n",
       "      <th>group2</th>\n",
       "      <th>meandiff</th>\n",
       "      <th>p-adj</th>\n",
       "      <th>lower</th>\n",
       "      <th>upper</th>\n",
       "      <th>reject</th>\n",
       "    </tr>\n",
       "  </thead>\n",
       "  <tbody>\n",
       "    <tr>\n",
       "      <th>0</th>\n",
       "      <td>KNN</td>\n",
       "      <td>RandomForest</td>\n",
       "      <td>0.023</td>\n",
       "      <td>0.2493</td>\n",
       "      <td>-0.0115</td>\n",
       "      <td>0.0575</td>\n",
       "      <td>False</td>\n",
       "    </tr>\n",
       "    <tr>\n",
       "      <th>1</th>\n",
       "      <td>KNN</td>\n",
       "      <td>SVC</td>\n",
       "      <td>0.031</td>\n",
       "      <td>0.0857</td>\n",
       "      <td>-0.0035</td>\n",
       "      <td>0.0656</td>\n",
       "      <td>False</td>\n",
       "    </tr>\n",
       "    <tr>\n",
       "      <th>2</th>\n",
       "      <td>RandomForest</td>\n",
       "      <td>SVC</td>\n",
       "      <td>0.008</td>\n",
       "      <td>0.8239</td>\n",
       "      <td>-0.0265</td>\n",
       "      <td>0.0426</td>\n",
       "      <td>False</td>\n",
       "    </tr>\n",
       "  </tbody>\n",
       "</table>\n",
       "</div>"
      ],
      "text/plain": [
       "         group1        group2  meandiff   p-adj   lower   upper  reject\n",
       "0           KNN  RandomForest     0.023  0.2493 -0.0115  0.0575   False\n",
       "1           KNN           SVC     0.031  0.0857 -0.0035  0.0656   False\n",
       "2  RandomForest           SVC     0.008  0.8239 -0.0265  0.0426   False"
      ]
     },
     "execution_count": 8,
     "metadata": {},
     "output_type": "execute_result"
    }
   ],
   "source": [
    "m_comp = pairwise_tukeyhsd(endog=accuracy_10sec_df['overall_accuracy'], groups=accuracy_10sec_df['classifier'], alpha=0.05)\n",
    "tukey_df = pd.DataFrame(data=m_comp._results_table.data[1:], columns = m_comp._results_table.data[0])\n",
    "tukey_df.to_csv('outputs/tables/ANOVA/10secTukeyClassifier.csv')\n",
    "tukey_df"
   ]
  },
  {
   "cell_type": "markdown",
   "id": "identical-fellow",
   "metadata": {},
   "source": [
    "## ANOVA (4 sec)"
   ]
  },
  {
   "cell_type": "code",
   "execution_count": 9,
   "id": "injured-gnome",
   "metadata": {},
   "outputs": [
    {
     "data": {
      "text/html": [
       "<div>\n",
       "<style scoped>\n",
       "    .dataframe tbody tr th:only-of-type {\n",
       "        vertical-align: middle;\n",
       "    }\n",
       "\n",
       "    .dataframe tbody tr th {\n",
       "        vertical-align: top;\n",
       "    }\n",
       "\n",
       "    .dataframe thead th {\n",
       "        text-align: right;\n",
       "    }\n",
       "</style>\n",
       "<table border=\"1\" class=\"dataframe\">\n",
       "  <thead>\n",
       "    <tr style=\"text-align: right;\">\n",
       "      <th></th>\n",
       "      <th>sum_sq</th>\n",
       "      <th>df</th>\n",
       "      <th>F</th>\n",
       "      <th>PR(&gt;F)</th>\n",
       "    </tr>\n",
       "  </thead>\n",
       "  <tbody>\n",
       "    <tr>\n",
       "      <th>C(classifier)</th>\n",
       "      <td>0.006253</td>\n",
       "      <td>2.0</td>\n",
       "      <td>4.713828</td>\n",
       "      <td>1.519424e-02</td>\n",
       "    </tr>\n",
       "    <tr>\n",
       "      <th>C(feature_set)</th>\n",
       "      <td>0.033149</td>\n",
       "      <td>2.0</td>\n",
       "      <td>24.988528</td>\n",
       "      <td>1.565160e-07</td>\n",
       "    </tr>\n",
       "    <tr>\n",
       "      <th>C(classifier):C(feature_set)</th>\n",
       "      <td>0.002337</td>\n",
       "      <td>4.0</td>\n",
       "      <td>0.880840</td>\n",
       "      <td>4.850895e-01</td>\n",
       "    </tr>\n",
       "    <tr>\n",
       "      <th>Residual</th>\n",
       "      <td>0.023879</td>\n",
       "      <td>36.0</td>\n",
       "      <td>NaN</td>\n",
       "      <td>NaN</td>\n",
       "    </tr>\n",
       "  </tbody>\n",
       "</table>\n",
       "</div>"
      ],
      "text/plain": [
       "                                sum_sq    df          F        PR(>F)\n",
       "C(classifier)                 0.006253   2.0   4.713828  1.519424e-02\n",
       "C(feature_set)                0.033149   2.0  24.988528  1.565160e-07\n",
       "C(classifier):C(feature_set)  0.002337   4.0   0.880840  4.850895e-01\n",
       "Residual                      0.023879  36.0        NaN           NaN"
      ]
     },
     "execution_count": 9,
     "metadata": {},
     "output_type": "execute_result"
    }
   ],
   "source": [
    "accuracy_4sec_df = accuracy_df[accuracy_df['window_len']=='128']\n",
    "\n",
    "model = ols('overall_accuracy ~ C(classifier) + C(feature_set) + C(classifier):C(feature_set)', data=accuracy_4sec_df).fit()\n",
    "anova_table = sm.stats.anova_lm(model, typ=2)\n",
    "anova_table.to_csv('outputs/tables/ANOVA/4secANOVA.csv')\n",
    "anova_table"
   ]
  },
  {
   "cell_type": "markdown",
   "id": "attempted-swaziland",
   "metadata": {},
   "source": [
    "## Tukey Features (4 sec)"
   ]
  },
  {
   "cell_type": "code",
   "execution_count": 10,
   "id": "minimal-liquid",
   "metadata": {},
   "outputs": [
    {
     "data": {
      "text/html": [
       "<div>\n",
       "<style scoped>\n",
       "    .dataframe tbody tr th:only-of-type {\n",
       "        vertical-align: middle;\n",
       "    }\n",
       "\n",
       "    .dataframe tbody tr th {\n",
       "        vertical-align: top;\n",
       "    }\n",
       "\n",
       "    .dataframe thead th {\n",
       "        text-align: right;\n",
       "    }\n",
       "</style>\n",
       "<table border=\"1\" class=\"dataframe\">\n",
       "  <thead>\n",
       "    <tr style=\"text-align: right;\">\n",
       "      <th></th>\n",
       "      <th>group1</th>\n",
       "      <th>group2</th>\n",
       "      <th>meandiff</th>\n",
       "      <th>p-adj</th>\n",
       "      <th>lower</th>\n",
       "      <th>upper</th>\n",
       "      <th>reject</th>\n",
       "    </tr>\n",
       "  </thead>\n",
       "  <tbody>\n",
       "    <tr>\n",
       "      <th>0</th>\n",
       "      <td>FrequencyAll</td>\n",
       "      <td>Time</td>\n",
       "      <td>-0.0050</td>\n",
       "      <td>0.8639</td>\n",
       "      <td>-0.0297</td>\n",
       "      <td>0.0196</td>\n",
       "      <td>False</td>\n",
       "    </tr>\n",
       "    <tr>\n",
       "      <th>1</th>\n",
       "      <td>FrequencyAll</td>\n",
       "      <td>TimeFrequency</td>\n",
       "      <td>0.0549</td>\n",
       "      <td>0.0010</td>\n",
       "      <td>0.0302</td>\n",
       "      <td>0.0796</td>\n",
       "      <td>True</td>\n",
       "    </tr>\n",
       "    <tr>\n",
       "      <th>2</th>\n",
       "      <td>Time</td>\n",
       "      <td>TimeFrequency</td>\n",
       "      <td>0.0599</td>\n",
       "      <td>0.0010</td>\n",
       "      <td>0.0353</td>\n",
       "      <td>0.0846</td>\n",
       "      <td>True</td>\n",
       "    </tr>\n",
       "  </tbody>\n",
       "</table>\n",
       "</div>"
      ],
      "text/plain": [
       "         group1         group2  meandiff   p-adj   lower   upper  reject\n",
       "0  FrequencyAll           Time   -0.0050  0.8639 -0.0297  0.0196   False\n",
       "1  FrequencyAll  TimeFrequency    0.0549  0.0010  0.0302  0.0796    True\n",
       "2          Time  TimeFrequency    0.0599  0.0010  0.0353  0.0846    True"
      ]
     },
     "execution_count": 10,
     "metadata": {},
     "output_type": "execute_result"
    }
   ],
   "source": [
    "m_comp = pairwise_tukeyhsd(endog=accuracy_4sec_df['overall_accuracy'], groups=accuracy_4sec_df['feature_set'], alpha=0.05)\n",
    "tukey_df = pd.DataFrame(data=m_comp._results_table.data[1:], columns = m_comp._results_table.data[0])\n",
    "tukey_df.to_csv('outputs/tables/ANOVA/4secTukeyFeatures.csv')\n",
    "tukey_df"
   ]
  },
  {
   "cell_type": "markdown",
   "id": "controversial-beast",
   "metadata": {},
   "source": [
    "## Tukey Classifiers (4 sec)"
   ]
  },
  {
   "cell_type": "code",
   "execution_count": 11,
   "id": "lyric-cedar",
   "metadata": {},
   "outputs": [
    {
     "data": {
      "text/html": [
       "<div>\n",
       "<style scoped>\n",
       "    .dataframe tbody tr th:only-of-type {\n",
       "        vertical-align: middle;\n",
       "    }\n",
       "\n",
       "    .dataframe tbody tr th {\n",
       "        vertical-align: top;\n",
       "    }\n",
       "\n",
       "    .dataframe thead th {\n",
       "        text-align: right;\n",
       "    }\n",
       "</style>\n",
       "<table border=\"1\" class=\"dataframe\">\n",
       "  <thead>\n",
       "    <tr style=\"text-align: right;\">\n",
       "      <th></th>\n",
       "      <th>group1</th>\n",
       "      <th>group2</th>\n",
       "      <th>meandiff</th>\n",
       "      <th>p-adj</th>\n",
       "      <th>lower</th>\n",
       "      <th>upper</th>\n",
       "      <th>reject</th>\n",
       "    </tr>\n",
       "  </thead>\n",
       "  <tbody>\n",
       "    <tr>\n",
       "      <th>0</th>\n",
       "      <td>KNN</td>\n",
       "      <td>RandomForest</td>\n",
       "      <td>0.0089</td>\n",
       "      <td>0.7776</td>\n",
       "      <td>-0.0245</td>\n",
       "      <td>0.0422</td>\n",
       "      <td>False</td>\n",
       "    </tr>\n",
       "    <tr>\n",
       "      <th>1</th>\n",
       "      <td>KNN</td>\n",
       "      <td>SVC</td>\n",
       "      <td>0.0282</td>\n",
       "      <td>0.1114</td>\n",
       "      <td>-0.0051</td>\n",
       "      <td>0.0616</td>\n",
       "      <td>False</td>\n",
       "    </tr>\n",
       "    <tr>\n",
       "      <th>2</th>\n",
       "      <td>RandomForest</td>\n",
       "      <td>SVC</td>\n",
       "      <td>0.0194</td>\n",
       "      <td>0.3457</td>\n",
       "      <td>-0.0140</td>\n",
       "      <td>0.0527</td>\n",
       "      <td>False</td>\n",
       "    </tr>\n",
       "  </tbody>\n",
       "</table>\n",
       "</div>"
      ],
      "text/plain": [
       "         group1        group2  meandiff   p-adj   lower   upper  reject\n",
       "0           KNN  RandomForest    0.0089  0.7776 -0.0245  0.0422   False\n",
       "1           KNN           SVC    0.0282  0.1114 -0.0051  0.0616   False\n",
       "2  RandomForest           SVC    0.0194  0.3457 -0.0140  0.0527   False"
      ]
     },
     "execution_count": 11,
     "metadata": {},
     "output_type": "execute_result"
    }
   ],
   "source": [
    "m_comp = pairwise_tukeyhsd(endog=accuracy_4sec_df['overall_accuracy'], groups=accuracy_4sec_df['classifier'], alpha=0.05)\n",
    "tukey_df = pd.DataFrame(data=m_comp._results_table.data[1:], columns = m_comp._results_table.data[0])\n",
    "tukey_df.to_csv('outputs/tables/ANOVA/4secTukeyClassifier.csv')\n",
    "tukey_df"
   ]
  },
  {
   "cell_type": "markdown",
   "id": "modified-independence",
   "metadata": {},
   "source": [
    "# Box Plots: Effect of Features on Overall Accuracy's"
   ]
  },
  {
   "cell_type": "code",
   "execution_count": 12,
   "id": "unexpected-carolina",
   "metadata": {},
   "outputs": [
    {
     "data": {
      "image/png": "[encoded data removed]",
      "text/plain": [
       "<Figure size 576x504 with 2 Axes>"
      ]
     },
     "metadata": {
      "needs_background": "light"
     },
     "output_type": "display_data"
    }
   ],
   "source": [
    "order = ['Time', 'FrequencyAll', 'TimeFrequency']\n",
    "f, ax = plt.subplots(1, 2, figsize=(8, 7), sharey=True)\n",
    "sns.boxplot(x='feature_set', y='overall_accuracy', data=accuracy_10sec_df, ax=ax[0], palette='Set1',\n",
    "                   order=order, showfliers=False, width=0.6)\n",
    "\n",
    "ax[0].set_title('10 Seconds Windows', fontsize=15)\n",
    "ax[0].set_ylabel('Overall Accuracy', fontsize=20)\n",
    "ax[0].set_xlabel('')\n",
    "ax[0].set_ylim([0.5, 1])\n",
    "ax[0].set_xticklabels(['Time', 'Freq', 'Time-Freq'], fontsize=15)\n",
    "ax[0].tick_params(axis='y', which='major', labelsize=15)\n",
    "\n",
    "for i,box in enumerate(ax[0].artists):\n",
    "    box.set_edgecolor('black')\n",
    "    box.set_facecolor('white')\n",
    "    \n",
    "x1, x2 = 1, 2\n",
    "y, h, col = accuracy_10sec_df['overall_accuracy'].min() - 0.01, -0.005, 'k'\n",
    "ax[0].plot([x1, x1, x2, x2], [y, y+h, y+h, y], lw=1.5, c=col)\n",
    "ax[0].text((x1+x2)*.5, y+2*h, \"*\", ha='center', va='top', color=col, fontsize=15)\n",
    "\n",
    "x1, x2 = 0, 2\n",
    "y, h, col = accuracy_10sec_df['overall_accuracy'].min() - 0.04, -0.005, 'k'\n",
    "ax[0].plot([x1, x1, x2, x2], [y, y+h, y+h, y], lw=1.5, c=col)\n",
    "ax[0].text((x1+x2)*.5, y+2*h, \"*\", ha='center', va='top', color=col, fontsize=15)\n",
    "\n",
    "\n",
    "sns.boxplot(x='feature_set', y='overall_accuracy', data=accuracy_4sec_df, ax=ax[1], palette='Set1', order=order, showfliers=False, width=0.6)\n",
    "ax[1].set_title('4 Seconds Windows', fontsize=15)\n",
    "ax[1].set_xticklabels(['Time', 'Freq', 'Time-Freq'], fontsize=15)\n",
    "ax[1].set_xlabel('')\n",
    "ax[1].set_ylabel('')\n",
    "\n",
    "for i,box in enumerate(ax[1].artists):\n",
    "    box.set_edgecolor('black')\n",
    "    box.set_facecolor('white')\n",
    "    \n",
    "x1, x2 = 1, 2\n",
    "y, h, col = accuracy_4sec_df['overall_accuracy'].min() - 0.01, -0.005, 'k'\n",
    "ax[1].plot([x1, x1, x2, x2], [y, y+h, y+h, y], lw=1.5, c=col)\n",
    "ax[1].text((x1+x2)*.5, y+2*h, \"*\", ha='center', va='top', color=col, fontsize=15)\n",
    "\n",
    "x1, x2 = 0, 2\n",
    "y, h, col = accuracy_4sec_df['overall_accuracy'].min() - 0.04, -0.005, 'k'\n",
    "ax[1].plot([x1, x1, x2, x2], [y, y+h, y+h, y], lw=1.5, c=col)\n",
    "ax[1].text((x1+x2)*.5, y+2*h, \"*\", ha='center', va='top', color=col, fontsize=15)\n",
    "\n",
    "\n",
    "f.suptitle('Feature Sets', fontsize=25)\n",
    "f.tight_layout()\n",
    "\n",
    "f.savefig('outputs/figures/boxPlots.png')\n",
    "plt.show()"
   ]
  },
  {
   "cell_type": "code",
   "execution_count": null,
   "id": "bottom-chair",
   "metadata": {},
   "outputs": [],
   "source": []
  },
  {
   "cell_type": "code",
   "execution_count": null,
   "id": "sixth-lincoln",
   "metadata": {},
   "outputs": [],
   "source": []
  }
 ],
 "metadata": {
  "kernelspec": {
   "display_name": "Python 3",
   "language": "python",
   "name": "python3"
  },
  "language_info": {
   "codemirror_mode": {
    "name": "ipython",
    "version": 3
   },
   "file_extension": ".py",
   "mimetype": "text/x-python",
   "name": "python",
   "nbconvert_exporter": "python",
   "pygments_lexer": "ipython3",
   "version": "3.9.2"
  },
  "toc-autonumbering": false
 },
 "nbformat": 4,
 "nbformat_minor": 5
}
