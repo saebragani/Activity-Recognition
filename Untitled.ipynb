{
 "cells": [
  {
   "cell_type": "code",
   "execution_count": 51,
   "id": "adverse-operations",
   "metadata": {},
   "outputs": [
    {
     "name": "stdout",
     "output_type": "stream",
     "text": [
      "3.9.2\n"
     ]
    }
   ],
   "source": [
    "import pickle\n",
    "import os\n",
    "from sklearn.metrics import accuracy_score\n",
    "from sklearn.metrics import classification_report\n",
    "import pandas as pd\n",
    "import numpy as np\n",
    "import matplotlib.pyplot as plt\n",
    "import warnings\n",
    "import seaborn as sns\n",
    "warnings.simplefilter('ignore')\n",
    "from platform import python_version\n",
    "print(python_version())"
   ]
  },
  {
   "cell_type": "code",
   "execution_count": 2,
   "id": "premier-final",
   "metadata": {},
   "outputs": [],
   "source": [
    "resultsDict = {}\n",
    "for file in os.listdir('./outputs/classification/inter-subject'):\n",
    "    infile = open('./outputs/classification/inter-subject/' + file, 'rb')\n",
    "    resultsDict['{}'.format(file)] = pickle.load(infile)\n",
    "    infile.close()"
   ]
  },
  {
   "cell_type": "code",
   "execution_count": 12,
   "id": "extended-gospel",
   "metadata": {
    "collapsed": true,
    "jupyter": {
     "outputs_hidden": true
    }
   },
   "outputs": [
    {
     "name": "stdout",
     "output_type": "stream",
     "text": [
      "Test accuracy for Fold1_FrequencyAll_KNN_128.pickle is: 0.85\n",
      "Test accuracy for Fold1_FrequencyAll_KNN_320.pickle is: 0.90\n",
      "Test accuracy for Fold1_FrequencyAll_RandomForest_128.pickle is: 0.87\n",
      "Test accuracy for Fold1_FrequencyAll_RandomForest_320.pickle is: 0.94\n",
      "Test accuracy for Fold1_FrequencyAll_SVC_128.pickle is: 0.90\n",
      "Test accuracy for Fold1_FrequencyAll_SVC_320.pickle is: 0.95\n",
      "Test accuracy for Fold1_TimeFrequency_KNN_128.pickle is: 0.93\n",
      "Test accuracy for Fold1_TimeFrequency_KNN_320.pickle is: 0.98\n",
      "Test accuracy for Fold1_TimeFrequency_RandomForest_128.pickle is: 0.93\n",
      "Test accuracy for Fold1_TimeFrequency_RandomForest_320.pickle is: 0.97\n",
      "Test accuracy for Fold1_TimeFrequency_SVC_128.pickle is: 0.94\n",
      "Test accuracy for Fold1_TimeFrequency_SVC_320.pickle is: 0.98\n",
      "Test accuracy for Fold1_Time_KNN_128.pickle is: 0.85\n",
      "Test accuracy for Fold1_Time_KNN_320.pickle is: 0.94\n",
      "Test accuracy for Fold1_Time_RandomForest_128.pickle is: 0.88\n",
      "Test accuracy for Fold1_Time_RandomForest_320.pickle is: 0.96\n",
      "Test accuracy for Fold1_Time_SVC_128.pickle is: 0.91\n",
      "Test accuracy for Fold1_Time_SVC_320.pickle is: 0.98\n",
      "Test accuracy for Fold2_FrequencyAll_KNN_128.pickle is: 0.82\n",
      "Test accuracy for Fold2_FrequencyAll_KNN_320.pickle is: 0.88\n",
      "Test accuracy for Fold2_FrequencyAll_RandomForest_128.pickle is: 0.85\n",
      "Test accuracy for Fold2_FrequencyAll_RandomForest_320.pickle is: 0.93\n",
      "Test accuracy for Fold2_FrequencyAll_SVC_128.pickle is: 0.86\n",
      "Test accuracy for Fold2_FrequencyAll_SVC_320.pickle is: 0.94\n",
      "Test accuracy for Fold2_TimeFrequency_KNN_128.pickle is: 0.89\n",
      "Test accuracy for Fold2_TimeFrequency_KNN_320.pickle is: 0.96\n",
      "Test accuracy for Fold2_TimeFrequency_RandomForest_128.pickle is: 0.85\n",
      "Test accuracy for Fold2_TimeFrequency_RandomForest_320.pickle is: 0.95\n",
      "Test accuracy for Fold2_TimeFrequency_SVC_128.pickle is: 0.89\n",
      "Test accuracy for Fold2_TimeFrequency_SVC_320.pickle is: 0.97\n",
      "Test accuracy for Fold2_Time_KNN_128.pickle is: 0.83\n",
      "Test accuracy for Fold2_Time_KNN_320.pickle is: 0.87\n",
      "Test accuracy for Fold2_Time_RandomForest_128.pickle is: 0.83\n",
      "Test accuracy for Fold2_Time_RandomForest_320.pickle is: 0.89\n",
      "Test accuracy for Fold2_Time_SVC_128.pickle is: 0.83\n",
      "Test accuracy for Fold2_Time_SVC_320.pickle is: 0.88\n",
      "Test accuracy for Fold3_FrequencyAll_KNN_128.pickle is: 0.84\n",
      "Test accuracy for Fold3_FrequencyAll_KNN_320.pickle is: 0.89\n",
      "Test accuracy for Fold3_FrequencyAll_RandomForest_128.pickle is: 0.85\n",
      "Test accuracy for Fold3_FrequencyAll_RandomForest_320.pickle is: 0.93\n",
      "Test accuracy for Fold3_FrequencyAll_SVC_128.pickle is: 0.87\n",
      "Test accuracy for Fold3_FrequencyAll_SVC_320.pickle is: 0.93\n",
      "Test accuracy for Fold3_TimeFrequency_KNN_128.pickle is: 0.91\n",
      "Test accuracy for Fold3_TimeFrequency_KNN_320.pickle is: 0.97\n",
      "Test accuracy for Fold3_TimeFrequency_RandomForest_128.pickle is: 0.92\n",
      "Test accuracy for Fold3_TimeFrequency_RandomForest_320.pickle is: 0.97\n",
      "Test accuracy for Fold3_TimeFrequency_SVC_128.pickle is: 0.92\n",
      "Test accuracy for Fold3_TimeFrequency_SVC_320.pickle is: 0.98\n",
      "Test accuracy for Fold3_Time_KNN_128.pickle is: 0.87\n",
      "Test accuracy for Fold3_Time_KNN_320.pickle is: 0.89\n",
      "Test accuracy for Fold3_Time_RandomForest_128.pickle is: 0.88\n",
      "Test accuracy for Fold3_Time_RandomForest_320.pickle is: 0.91\n",
      "Test accuracy for Fold3_Time_SVC_128.pickle is: 0.89\n",
      "Test accuracy for Fold3_Time_SVC_320.pickle is: 0.92\n",
      "Test accuracy for Fold4_FrequencyAll_KNN_128.pickle is: 0.83\n",
      "Test accuracy for Fold4_FrequencyAll_KNN_320.pickle is: 0.90\n",
      "Test accuracy for Fold4_FrequencyAll_RandomForest_128.pickle is: 0.85\n",
      "Test accuracy for Fold4_FrequencyAll_RandomForest_320.pickle is: 0.94\n",
      "Test accuracy for Fold4_FrequencyAll_SVC_128.pickle is: 0.87\n",
      "Test accuracy for Fold4_FrequencyAll_SVC_320.pickle is: 0.96\n",
      "Test accuracy for Fold4_TimeFrequency_KNN_128.pickle is: 0.90\n",
      "Test accuracy for Fold4_TimeFrequency_KNN_320.pickle is: 0.97\n",
      "Test accuracy for Fold4_TimeFrequency_RandomForest_128.pickle is: 0.89\n",
      "Test accuracy for Fold4_TimeFrequency_RandomForest_320.pickle is: 0.96\n",
      "Test accuracy for Fold4_TimeFrequency_SVC_128.pickle is: 0.90\n",
      "Test accuracy for Fold4_TimeFrequency_SVC_320.pickle is: 0.97\n",
      "Test accuracy for Fold4_Time_KNN_128.pickle is: 0.78\n",
      "Test accuracy for Fold4_Time_KNN_320.pickle is: 0.83\n",
      "Test accuracy for Fold4_Time_RandomForest_128.pickle is: 0.82\n",
      "Test accuracy for Fold4_Time_RandomForest_320.pickle is: 0.90\n",
      "Test accuracy for Fold4_Time_SVC_128.pickle is: 0.84\n",
      "Test accuracy for Fold4_Time_SVC_320.pickle is: 0.89\n",
      "Test accuracy for Fold5_FrequencyAll_KNN_128.pickle is: 0.80\n",
      "Test accuracy for Fold5_FrequencyAll_KNN_320.pickle is: 0.86\n",
      "Test accuracy for Fold5_FrequencyAll_RandomForest_128.pickle is: 0.82\n",
      "Test accuracy for Fold5_FrequencyAll_RandomForest_320.pickle is: 0.93\n",
      "Test accuracy for Fold5_FrequencyAll_SVC_128.pickle is: 0.86\n",
      "Test accuracy for Fold5_FrequencyAll_SVC_320.pickle is: 0.94\n",
      "Test accuracy for Fold5_TimeFrequency_KNN_128.pickle is: 0.90\n",
      "Test accuracy for Fold5_TimeFrequency_KNN_320.pickle is: 0.95\n",
      "Test accuracy for Fold5_TimeFrequency_RandomForest_128.pickle is: 0.87\n",
      "Test accuracy for Fold5_TimeFrequency_RandomForest_320.pickle is: 0.95\n",
      "Test accuracy for Fold5_TimeFrequency_SVC_128.pickle is: 0.91\n",
      "Test accuracy for Fold5_TimeFrequency_SVC_320.pickle is: 0.95\n",
      "Test accuracy for Fold5_Time_KNN_128.pickle is: 0.81\n",
      "Test accuracy for Fold5_Time_KNN_320.pickle is: 0.86\n",
      "Test accuracy for Fold5_Time_RandomForest_128.pickle is: 0.81\n",
      "Test accuracy for Fold5_Time_RandomForest_320.pickle is: 0.87\n",
      "Test accuracy for Fold5_Time_SVC_128.pickle is: 0.83\n",
      "Test accuracy for Fold5_Time_SVC_320.pickle is: 0.88\n"
     ]
    }
   ],
   "source": [
    "for key in resultsDict.keys():\n",
    "    Y_true_pred = resultsDict[key]['TruePredY']\n",
    "    best_accuracy = accuracy_score(Y_true_pred['True'], Y_true_pred['Predicted'])\n",
    "    print('Test accuracy for {0:} is: {1:.2f}'.format(key, best_accuracy))"
   ]
  },
  {
   "cell_type": "code",
   "execution_count": 94,
   "id": "going-midwest",
   "metadata": {},
   "outputs": [],
   "source": [
    "columns = ['Test Set', 'Window Length', 'Feature', 'Classifier', 'Overall Accuracy']\n",
    "accuracy_df = pd.DataFrame(columns=columns)\n",
    "\n",
    "for key in resultsDict.keys():\n",
    "    tmp_str_split = key[:-7].split('_')\n",
    "    test_set = tmp_str_split[0][-1]\n",
    "    feature = tmp_str_split[1]\n",
    "    classifier = tmp_str_split[2]\n",
    "    window_length = tmp_str_split[3]\n",
    "    \n",
    "    Y_true_pred = resultsDict[key]['TruePredY']\n",
    "    overall_accuracy = accuracy_score(Y_true_pred['True'], Y_true_pred['Predicted'])\n",
    "    \n",
    "    accuracy_df = accuracy_df.append({'Test Set': test_set, 'Window Length': window_length, 'Feature': feature, 'Classifier': classifier, 'Overall Accuracy': overall_accuracy},\n",
    "                                     ignore_index=True)"
   ]
  },
  {
   "cell_type": "code",
   "execution_count": 96,
   "id": "structural-deputy",
   "metadata": {},
   "outputs": [
    {
     "data": {
      "text/html": [
       "<div>\n",
       "<style scoped>\n",
       "    .dataframe tbody tr th:only-of-type {\n",
       "        vertical-align: middle;\n",
       "    }\n",
       "\n",
       "    .dataframe tbody tr th {\n",
       "        vertical-align: top;\n",
       "    }\n",
       "\n",
       "    .dataframe thead th {\n",
       "        text-align: right;\n",
       "    }\n",
       "</style>\n",
       "<table border=\"1\" class=\"dataframe\">\n",
       "  <thead>\n",
       "    <tr style=\"text-align: right;\">\n",
       "      <th></th>\n",
       "      <th>Test Set</th>\n",
       "      <th>Window Length</th>\n",
       "      <th>Feature</th>\n",
       "      <th>Classifier</th>\n",
       "      <th>Overall Accuracy</th>\n",
       "    </tr>\n",
       "  </thead>\n",
       "  <tbody>\n",
       "    <tr>\n",
       "      <th>0</th>\n",
       "      <td>1</td>\n",
       "      <td>128</td>\n",
       "      <td>FrequencyAll</td>\n",
       "      <td>KNN</td>\n",
       "      <td>0.846698</td>\n",
       "    </tr>\n",
       "    <tr>\n",
       "      <th>1</th>\n",
       "      <td>1</td>\n",
       "      <td>320</td>\n",
       "      <td>FrequencyAll</td>\n",
       "      <td>KNN</td>\n",
       "      <td>0.897357</td>\n",
       "    </tr>\n",
       "    <tr>\n",
       "      <th>2</th>\n",
       "      <td>1</td>\n",
       "      <td>128</td>\n",
       "      <td>FrequencyAll</td>\n",
       "      <td>RandomForest</td>\n",
       "      <td>0.874726</td>\n",
       "    </tr>\n",
       "    <tr>\n",
       "      <th>3</th>\n",
       "      <td>1</td>\n",
       "      <td>320</td>\n",
       "      <td>FrequencyAll</td>\n",
       "      <td>RandomForest</td>\n",
       "      <td>0.939766</td>\n",
       "    </tr>\n",
       "    <tr>\n",
       "      <th>4</th>\n",
       "      <td>1</td>\n",
       "      <td>128</td>\n",
       "      <td>FrequencyAll</td>\n",
       "      <td>SVC</td>\n",
       "      <td>0.895686</td>\n",
       "    </tr>\n",
       "    <tr>\n",
       "      <th>...</th>\n",
       "      <td>...</td>\n",
       "      <td>...</td>\n",
       "      <td>...</td>\n",
       "      <td>...</td>\n",
       "      <td>...</td>\n",
       "    </tr>\n",
       "    <tr>\n",
       "      <th>85</th>\n",
       "      <td>5</td>\n",
       "      <td>320</td>\n",
       "      <td>Time</td>\n",
       "      <td>KNN</td>\n",
       "      <td>0.856951</td>\n",
       "    </tr>\n",
       "    <tr>\n",
       "      <th>86</th>\n",
       "      <td>5</td>\n",
       "      <td>128</td>\n",
       "      <td>Time</td>\n",
       "      <td>RandomForest</td>\n",
       "      <td>0.811950</td>\n",
       "    </tr>\n",
       "    <tr>\n",
       "      <th>87</th>\n",
       "      <td>5</td>\n",
       "      <td>320</td>\n",
       "      <td>Time</td>\n",
       "      <td>RandomForest</td>\n",
       "      <td>0.867696</td>\n",
       "    </tr>\n",
       "    <tr>\n",
       "      <th>88</th>\n",
       "      <td>5</td>\n",
       "      <td>128</td>\n",
       "      <td>Time</td>\n",
       "      <td>SVC</td>\n",
       "      <td>0.834623</td>\n",
       "    </tr>\n",
       "    <tr>\n",
       "      <th>89</th>\n",
       "      <td>5</td>\n",
       "      <td>320</td>\n",
       "      <td>Time</td>\n",
       "      <td>SVC</td>\n",
       "      <td>0.875084</td>\n",
       "    </tr>\n",
       "  </tbody>\n",
       "</table>\n",
       "<p>90 rows × 5 columns</p>\n",
       "</div>"
      ],
      "text/plain": [
       "   Test Set Window Length       Feature    Classifier  Overall Accuracy\n",
       "0         1           128  FrequencyAll           KNN          0.846698\n",
       "1         1           320  FrequencyAll           KNN          0.897357\n",
       "2         1           128  FrequencyAll  RandomForest          0.874726\n",
       "3         1           320  FrequencyAll  RandomForest          0.939766\n",
       "4         1           128  FrequencyAll           SVC          0.895686\n",
       "..      ...           ...           ...           ...               ...\n",
       "85        5           320          Time           KNN          0.856951\n",
       "86        5           128          Time  RandomForest          0.811950\n",
       "87        5           320          Time  RandomForest          0.867696\n",
       "88        5           128          Time           SVC          0.834623\n",
       "89        5           320          Time           SVC          0.875084\n",
       "\n",
       "[90 rows x 5 columns]"
      ]
     },
     "execution_count": 96,
     "metadata": {},
     "output_type": "execute_result"
    }
   ],
   "source": [
    "accuracy_df"
   ]
  },
  {
   "cell_type": "code",
   "execution_count": 115,
   "id": "italian-stack",
   "metadata": {},
   "outputs": [
    {
     "data": {
      "image/png": "[encoded data removed]",
      "text/plain": [
       "<Figure size 1800x504 with 1 Axes>"
      ]
     },
     "metadata": {
      "needs_background": "light"
     },
     "output_type": "display_data"
    }
   ],
   "source": [
    "f, ax = plt.subplots(1, figsize=(25, 7))\n",
    "# sns.boxplot(x='Test Set', y='Overall Accuracy', data=accuracy_df, ax=ax, palette='Set1')\n",
    "sns.boxplot(x='Test Set', y='Overall Accuracy', hue='Window Length', data=accuracy_df, ax=ax, palette='Set1')\n",
    "plt.show()"
   ]
  },
  {
   "cell_type": "markdown",
   "id": "banned-practice",
   "metadata": {},
   "source": [
    "## Tests Subjects\n",
    "\n",
    "> `Test Set 1`: **26, 32, 21, 9, 13, 20, 12, 24**\n",
    "\n",
    "> `Test Set 2`: **41, 37, 42, 35, 43, 11, 23, 39**  --> 1 left handed\n",
    "\n",
    "> `Test Set 3`: **14, 22, 18, 17, 28, 33, 38**\n",
    "\n",
    "> `Test Set 4`: **34, 19, 44, 31, 29, 40, 27**  --> 1 left handed\n",
    "\n",
    "> `Test Set 5`: **16, 30, 8, 10, 15, 25, 36**\n",
    "\n",
    "\n",
    "**Left handed subjects: 19 & 35 subject**"
   ]
  },
  {
   "cell_type": "code",
   "execution_count": 54,
   "id": "miniature-latest",
   "metadata": {
    "collapsed": true,
    "jupyter": {
     "outputs_hidden": true,
     "source_hidden": true
    }
   },
   "outputs": [
    {
     "data": {
      "image/png": "[encoded data removed]",
      "text/plain": [
       "<Figure size 1440x360 with 1 Axes>"
      ]
     },
     "metadata": {
      "needs_background": "light"
     },
     "output_type": "display_data"
    }
   ],
   "source": [
    "f, ax = plt.subplots(1, figsize=(20, 5))\n",
    "ax.scatter(accuracy_df['Test Set'], accuracy_df['Overall Accuracy'])\n",
    "plt.show()"
   ]
  },
  {
   "cell_type": "markdown",
   "id": "gothic-christmas",
   "metadata": {},
   "source": [
    "# ANOVA Test"
   ]
  },
  {
   "cell_type": "code",
   "execution_count": 63,
   "id": "informative-voice",
   "metadata": {},
   "outputs": [],
   "source": [
    "import statsmodels.api as sm\n",
    "from statsmodels.formula.api import ols"
   ]
  },
  {
   "cell_type": "code",
   "execution_count": 95,
   "id": "scientific-invention",
   "metadata": {},
   "outputs": [
    {
     "data": {
      "text/html": [
       "<div>\n",
       "<style scoped>\n",
       "    .dataframe tbody tr th:only-of-type {\n",
       "        vertical-align: middle;\n",
       "    }\n",
       "\n",
       "    .dataframe tbody tr th {\n",
       "        vertical-align: top;\n",
       "    }\n",
       "\n",
       "    .dataframe thead th {\n",
       "        text-align: right;\n",
       "    }\n",
       "</style>\n",
       "<table border=\"1\" class=\"dataframe\">\n",
       "  <thead>\n",
       "    <tr style=\"text-align: right;\">\n",
       "      <th></th>\n",
       "      <th>sum_sq</th>\n",
       "      <th>df</th>\n",
       "      <th>F</th>\n",
       "      <th>PR(&gt;F)</th>\n",
       "    </tr>\n",
       "  </thead>\n",
       "  <tbody>\n",
       "    <tr>\n",
       "      <th>C(accuracy_df[\"Test Set\"])</th>\n",
       "      <td>0.026693</td>\n",
       "      <td>4.0</td>\n",
       "      <td>2.857599</td>\n",
       "      <td>0.02832</td>\n",
       "    </tr>\n",
       "    <tr>\n",
       "      <th>Residual</th>\n",
       "      <td>0.198494</td>\n",
       "      <td>85.0</td>\n",
       "      <td>NaN</td>\n",
       "      <td>NaN</td>\n",
       "    </tr>\n",
       "  </tbody>\n",
       "</table>\n",
       "</div>"
      ],
      "text/plain": [
       "                              sum_sq    df         F   PR(>F)\n",
       "C(accuracy_df[\"Test Set\"])  0.026693   4.0  2.857599  0.02832\n",
       "Residual                    0.198494  85.0       NaN      NaN"
      ]
     },
     "execution_count": 95,
     "metadata": {},
     "output_type": "execute_result"
    }
   ],
   "source": [
    "model = ols('accuracy_df[\"Overall Accuracy\"] ~ C(accuracy_df[\"Test Set\"])', data=accuracy_df).fit()\n",
    "anova_table = sm.stats.anova_lm(model, typ=2) # if the data is balanced (equal sample size for each group) type 1,2,3 sums of squares (typ parameter) will produce similar results\n",
    "anova_table"
   ]
  },
  {
   "cell_type": "markdown",
   "id": "dying-matrix",
   "metadata": {},
   "source": [
    "# ANOVA for 10 Seconds Window Length"
   ]
  },
  {
   "cell_type": "code",
   "execution_count": 112,
   "id": "graduate-speaker",
   "metadata": {},
   "outputs": [
    {
     "data": {
      "text/html": [
       "<div>\n",
       "<style scoped>\n",
       "    .dataframe tbody tr th:only-of-type {\n",
       "        vertical-align: middle;\n",
       "    }\n",
       "\n",
       "    .dataframe tbody tr th {\n",
       "        vertical-align: top;\n",
       "    }\n",
       "\n",
       "    .dataframe thead th {\n",
       "        text-align: right;\n",
       "    }\n",
       "</style>\n",
       "<table border=\"1\" class=\"dataframe\">\n",
       "  <thead>\n",
       "    <tr style=\"text-align: right;\">\n",
       "      <th></th>\n",
       "      <th>sum_sq</th>\n",
       "      <th>df</th>\n",
       "      <th>F</th>\n",
       "      <th>PR(&gt;F)</th>\n",
       "    </tr>\n",
       "  </thead>\n",
       "  <tbody>\n",
       "    <tr>\n",
       "      <th>C(accuracy_10sec_df[\"Test Set\"])</th>\n",
       "      <td>0.01109</td>\n",
       "      <td>4.0</td>\n",
       "      <td>1.839459</td>\n",
       "      <td>0.140257</td>\n",
       "    </tr>\n",
       "    <tr>\n",
       "      <th>Residual</th>\n",
       "      <td>0.06029</td>\n",
       "      <td>40.0</td>\n",
       "      <td>NaN</td>\n",
       "      <td>NaN</td>\n",
       "    </tr>\n",
       "  </tbody>\n",
       "</table>\n",
       "</div>"
      ],
      "text/plain": [
       "                                   sum_sq    df         F    PR(>F)\n",
       "C(accuracy_10sec_df[\"Test Set\"])  0.01109   4.0  1.839459  0.140257\n",
       "Residual                          0.06029  40.0       NaN       NaN"
      ]
     },
     "execution_count": 112,
     "metadata": {},
     "output_type": "execute_result"
    }
   ],
   "source": [
    "accuracy_10sec_df = accuracy_df[accuracy_df['Window Length']=='320']\n",
    "\n",
    "model = ols('accuracy_10sec_df[\"Overall Accuracy\"] ~ C(accuracy_10sec_df[\"Test Set\"])', data=accuracy_10sec_df).fit()\n",
    "anova_table = sm.stats.anova_lm(model, typ=2) # if the data is balanced (equal sample size for each group) type 1,2,3 sums of squares (typ parameter) will produce similar results\n",
    "anova_table\n"
   ]
  },
  {
   "cell_type": "code",
   "execution_count": 113,
   "id": "outstanding-juvenile",
   "metadata": {},
   "outputs": [
    {
     "data": {
      "text/html": [
       "<div>\n",
       "<style scoped>\n",
       "    .dataframe tbody tr th:only-of-type {\n",
       "        vertical-align: middle;\n",
       "    }\n",
       "\n",
       "    .dataframe tbody tr th {\n",
       "        vertical-align: top;\n",
       "    }\n",
       "\n",
       "    .dataframe thead th {\n",
       "        text-align: right;\n",
       "    }\n",
       "</style>\n",
       "<table border=\"1\" class=\"dataframe\">\n",
       "  <thead>\n",
       "    <tr style=\"text-align: right;\">\n",
       "      <th></th>\n",
       "      <th>sum_sq</th>\n",
       "      <th>df</th>\n",
       "      <th>F</th>\n",
       "      <th>PR(&gt;F)</th>\n",
       "    </tr>\n",
       "  </thead>\n",
       "  <tbody>\n",
       "    <tr>\n",
       "      <th>C(accuracy_4sec_df[\"Test Set\"])</th>\n",
       "      <td>0.016627</td>\n",
       "      <td>4.0</td>\n",
       "      <td>3.393855</td>\n",
       "      <td>0.017576</td>\n",
       "    </tr>\n",
       "    <tr>\n",
       "      <th>Residual</th>\n",
       "      <td>0.048991</td>\n",
       "      <td>40.0</td>\n",
       "      <td>NaN</td>\n",
       "      <td>NaN</td>\n",
       "    </tr>\n",
       "  </tbody>\n",
       "</table>\n",
       "</div>"
      ],
      "text/plain": [
       "                                   sum_sq    df         F    PR(>F)\n",
       "C(accuracy_4sec_df[\"Test Set\"])  0.016627   4.0  3.393855  0.017576\n",
       "Residual                         0.048991  40.0       NaN       NaN"
      ]
     },
     "execution_count": 113,
     "metadata": {},
     "output_type": "execute_result"
    }
   ],
   "source": [
    "accuracy_4sec_df = accuracy_df[accuracy_df['Window Length']=='128']\n",
    "\n",
    "model = ols('accuracy_4sec_df[\"Overall Accuracy\"] ~ C(accuracy_4sec_df[\"Test Set\"])', data=accuracy_4sec_df).fit()\n",
    "anova_table = sm.stats.anova_lm(model, typ=2) # if the data is balanced (equal sample size for each group) type 1,2,3 sums of squares (typ parameter) will produce similar results\n",
    "anova_table"
   ]
  },
  {
   "cell_type": "code",
   "execution_count": null,
   "id": "naked-digit",
   "metadata": {},
   "outputs": [],
   "source": []
  },
  {
   "cell_type": "code",
   "execution_count": null,
   "id": "increased-harris",
   "metadata": {},
   "outputs": [],
   "source": []
  },
  {
   "cell_type": "code",
   "execution_count": null,
   "id": "employed-sister",
   "metadata": {},
   "outputs": [],
   "source": []
  }
 ],
 "metadata": {
  "kernelspec": {
   "display_name": "Python 3",
   "language": "python",
   "name": "python3"
  },
  "language_info": {
   "codemirror_mode": {
    "name": "ipython",
    "version": 3
   },
   "file_extension": ".py",
   "mimetype": "text/x-python",
   "name": "python",
   "nbconvert_exporter": "python",
   "pygments_lexer": "ipython3",
   "version": "3.9.2"
  },
  "toc-autonumbering": false
 },
 "nbformat": 4,
 "nbformat_minor": 5
}
